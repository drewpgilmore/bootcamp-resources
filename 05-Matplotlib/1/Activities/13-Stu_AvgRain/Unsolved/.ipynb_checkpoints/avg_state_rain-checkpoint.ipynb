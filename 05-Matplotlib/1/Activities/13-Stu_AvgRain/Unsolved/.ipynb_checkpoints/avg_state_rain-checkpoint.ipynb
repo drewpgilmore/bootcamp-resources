{
 "cells": [
  {
   "cell_type": "markdown",
   "metadata": {},
   "source": [
    "# Average Rainfall\n",
    "\n",
    "## Instructions\n",
    "\n",
    "* Look at the [raw data](Resources/avg_rain_state.csv) in your resources folder. This dataset contains the average rainfall per state in any given year.\n",
    "\n",
    "* Using the [starter file](Unsolved/avg_state_rain.ipynb), generate a plot that shows the average rainfall per state.\n",
    "\n",
    "## Hints\n",
    "\n",
    "* Think critically about the different plots we discussed today. Ask yourself which type of plot summarizes the data most effectively.\n",
    "\n",
    "* Be sure to add a title, axis labels, and any other aesthetic elements that may help make the visualization more effective.\n",
    "Data Source: [Average Annual Precipitation](https://www.currentresults.com/Weather/US/average-annual-state-precipitation.php).\n",
    "\n",
    "- - -\n",
    "\n",
    "© 2019 Trilogy Education Services\n"
   ]
  },
  {
   "cell_type": "code",
   "execution_count": 3,
   "metadata": {},
   "outputs": [],
   "source": [
    "%matplotlib notebook"
   ]
  },
  {
   "cell_type": "code",
   "execution_count": 4,
   "metadata": {},
   "outputs": [],
   "source": [
    "# Dependencies\n",
    "import matplotlib.pyplot as plt\n",
    "import numpy as np\n",
    "import pandas as pd"
   ]
  },
  {
   "cell_type": "code",
   "execution_count": 10,
   "metadata": {},
   "outputs": [],
   "source": [
    "# Load in csv\n",
    "file = '../Resources/avg_rain_state.csv'"
   ]
  },
  {
   "cell_type": "code",
   "execution_count": 11,
   "metadata": {},
   "outputs": [],
   "source": [
    "rainfall = pd.read_csv(file)"
   ]
  },
  {
   "cell_type": "code",
   "execution_count": 12,
   "metadata": {},
   "outputs": [
    {
     "name": "stdout",
     "output_type": "stream",
     "text": [
      "             State  Inches  Milli­metres  Rank\n",
      "0          Alabama    58.3          1480     4\n",
      "1           Alaska    22.5           572    39\n",
      "2          Arizona    13.6           345    47\n",
      "3         Arkansas    50.6          1284     8\n",
      "4       California    22.2           563    40\n",
      "5         Colorado    15.9           405    44\n",
      "6      Connecticut    50.3          1279     9\n",
      "7         Delaware    45.7          1160    16\n",
      "8          Florida    54.5          1385     5\n",
      "9          Georgia    50.7          1287     7\n",
      "10          Hawaii    63.7          1618     1\n",
      "11           Idaho    18.9           481    42\n",
      "12        Illinois    39.2           996    27\n",
      "13         Indiana    41.7          1060    26\n",
      "14            Iowa    34.0           864    31\n",
      "15          Kansas    28.9           733    35\n",
      "16        Kentucky    48.9          1242    12\n",
      "17       Louisiana    60.1          1528     2\n",
      "18           Maine    42.2          1072    23\n",
      "19        Maryland    44.5          1131    18\n",
      "20   Massachusetts    47.7          1211    14\n",
      "21        Michigan    32.8           833    32\n",
      "22       Minnesota    27.3           693    37\n",
      "23     Mississippi    59.0          1499     3\n",
      "24        Missouri    42.2          1071    24\n",
      "25         Montana    15.3           390    45\n",
      "26        Nebraska    23.6           599    38\n",
      "27          Nevada     9.5           241    50\n",
      "28   New Hampshire    43.4          1103    20\n",
      "29      New Jersey    47.1          1196    15\n",
      "30      New Mexico    14.6           370    46\n",
      "31        New York    41.8          1062    25\n",
      "32  North Carolina    50.3          1279     9\n",
      "33    North Dakota    17.8           452    43\n",
      "34            Ohio    39.1           993    28\n",
      "35        Oklahoma    36.5           927    30\n",
      "36          Oregon    27.4           695    36\n",
      "37    Pennsylvania    42.9          1089    21\n",
      "38    Rhode Island    47.9          1218    13\n",
      "39  South Carolina    49.8          1264    11\n",
      "40    South Dakota    20.1           511    41\n",
      "41       Tennessee    54.2          1376     6\n",
      "42           Texas    28.9           734    34\n",
      "43            Utah    12.2           310    49\n",
      "44         Vermont    42.7          1085    22\n",
      "45        Virginia    44.3          1125    19\n",
      "46      Washington    38.4           976    29\n",
      "47   West Virginia    45.2          1147    17\n",
      "48       Wisconsin    32.6           829    33\n",
      "49         Wyoming    12.9           328    48\n"
     ]
    }
   ],
   "source": []
  },
  {
   "cell_type": "code",
   "execution_count": null,
   "metadata": {},
   "outputs": [],
   "source": []
  }
 ],
 "metadata": {
  "kernelspec": {
   "display_name": "Python 3",
   "language": "python",
   "name": "python3"
  },
  "language_info": {
   "codemirror_mode": {
    "name": "ipython",
    "version": 3
   },
   "file_extension": ".py",
   "mimetype": "text/x-python",
   "name": "python",
   "nbconvert_exporter": "python",
   "pygments_lexer": "ipython3",
   "version": "3.7.6"
  },
  "varInspector": {
   "cols": {
    "lenName": 16,
    "lenType": 16,
    "lenVar": 40
   },
   "kernels_config": {
    "python": {
     "delete_cmd_postfix": "",
     "delete_cmd_prefix": "del ",
     "library": "var_list.py",
     "varRefreshCmd": "print(var_dic_list())"
    },
    "r": {
     "delete_cmd_postfix": ") ",
     "delete_cmd_prefix": "rm(",
     "library": "var_list.r",
     "varRefreshCmd": "cat(var_dic_list()) "
    }
   },
   "types_to_exclude": [
    "module",
    "function",
    "builtin_function_or_method",
    "instance",
    "_Feature"
   ],
   "window_display": false
  }
 },
 "nbformat": 4,
 "nbformat_minor": 2
}
