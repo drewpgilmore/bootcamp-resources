{
 "cells": [
  {
   "cell_type": "markdown",
   "metadata": {},
   "source": [
    "# Average Rainfall\n",
    "\n",
    "## Instructions\n",
    "\n",
    "* Look at the [raw data](Resources/avg_rain_state.csv) in your resources folder. This dataset contains the average rainfall per state in any given year.\n",
    "\n",
    "* Using the [starter file](Unsolved/avg_state_rain.ipynb), generate a plot that shows the average rainfall per state.\n",
    "\n",
    "## Hints\n",
    "\n",
    "* Think critically about the different plots we discussed today. Ask yourself which type of plot summarizes the data most effectively.\n",
    "\n",
    "* Be sure to add a title, axis labels, and any other aesthetic elements that may help make the visualization more effective.\n",
    "Data Source: [Average Annual Precipitation](https://www.currentresults.com/Weather/US/average-annual-state-precipitation.php).\n",
    "\n",
    "- - -\n",
    "\n",
    "© 2019 Trilogy Education Services\n"
   ]
  },
  {
   "cell_type": "code",
   "execution_count": null,
   "metadata": {},
   "outputs": [],
   "source": [
    "%matplotlib notebook"
   ]
  },
  {
   "cell_type": "code",
   "execution_count": null,
   "metadata": {},
   "outputs": [],
   "source": [
    "# Dependencies\n",
    "import matplotlib.pyplot as plt\n",
    "import numpy as np\n",
    "import pandas as pd"
   ]
  },
  {
   "cell_type": "code",
   "execution_count": null,
   "metadata": {},
   "outputs": [],
   "source": [
    "# Load in csv\n"
   ]
  },
  {
   "cell_type": "code",
   "execution_count": null,
   "metadata": {},
   "outputs": [],
   "source": []
  }
 ],
 "metadata": {
  "kernelspec": {
   "display_name": "Python 3",
   "language": "python",
   "name": "python3"
  },
  "language_info": {
   "codemirror_mode": {
    "name": "ipython",
    "version": 3
   },
   "file_extension": ".py",
   "mimetype": "text/x-python",
   "name": "python",
   "nbconvert_exporter": "python",
   "pygments_lexer": "ipython3",
   "version": "3.6.8"
  },
  "varInspector": {
   "cols": {
    "lenName": 16,
    "lenType": 16,
    "lenVar": 40
   },
   "kernels_config": {
    "python": {
     "delete_cmd_postfix": "",
     "delete_cmd_prefix": "del ",
     "library": "var_list.py",
     "varRefreshCmd": "print(var_dic_list())"
    },
    "r": {
     "delete_cmd_postfix": ") ",
     "delete_cmd_prefix": "rm(",
     "library": "var_list.r",
     "varRefreshCmd": "cat(var_dic_list()) "
    }
   },
   "types_to_exclude": [
    "module",
    "function",
    "builtin_function_or_method",
    "instance",
    "_Feature"
   ],
   "window_display": false
  }
 },
 "nbformat": 4,
 "nbformat_minor": 2
}
