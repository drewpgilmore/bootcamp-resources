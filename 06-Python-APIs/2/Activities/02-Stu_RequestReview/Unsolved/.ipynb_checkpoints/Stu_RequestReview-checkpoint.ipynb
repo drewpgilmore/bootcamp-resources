{
 "cells": [
  {
   "cell_type": "code",
   "execution_count": 2,
   "metadata": {},
   "outputs": [],
   "source": [
    "# Dependencies\n",
    "import json\n",
    "import requests "
   ]
  },
  {
   "cell_type": "code",
   "execution_count": 3,
   "metadata": {},
   "outputs": [],
   "source": [
    "# Specify the URL\n",
    "url = 'http://nyt-mongo-scraper.herokuapp.com/api/headlines'\n",
    "# Make request and store response\n",
    "data = requests.get(url).json()"
   ]
  },
  {
   "cell_type": "code",
   "execution_count": 4,
   "metadata": {},
   "outputs": [
    {
     "data": {
      "text/plain": [
       "[{'saved': False,\n",
       "  '_id': '5efd292b2b3c7c001515b0b5',\n",
       "  'headline': 'The Real Lessons of Telfar, Kanye and the Gap',\n",
       "  'summary': 'First came Gap x Telfar. Then came Yeezy Gap. Then came the outcry. But Telfar Clemens says everyone has it wrong.',\n",
       "  'url': 'https://www.nytimes.com/2020/06/30/style/Telfar-Yeezy-Gap.html',\n",
       "  'date': '2020-07-02T00:24:11.462Z',\n",
       "  '__v': 0},\n",
       " {'saved': False,\n",
       "  '_id': '5efd292b2b3c7c001515b0b4',\n",
       "  'headline': 'Refusing to Wear a Mask Is Like Driving Drunk',\n",
       "  'summary': 'Republicans talk a good game about “personal responsibility.” It’s time for President Trump’s supporters to actually display some.',\n",
       "  'url': 'https://www.nytimes.com/2020/07/01/opinion/coronavirus-face-masks.html',\n",
       "  'date': '2020-07-02T00:24:11.462Z',\n",
       "  '__v': 0},\n",
       " {'saved': False,\n",
       "  '_id': '5efd292b2b3c7c001515b0b3',\n",
       "  'headline': 'Duchess Goldblatt Is a Riddle, Wrapped in a Mystery, Inside a Twitter Account',\n",
       "  'summary': '“Becoming Duchess Goldblatt” is a memoir by the writer behind a beloved fictional character whose fans include Lyle Lovett and Celeste Ng.',\n",
       "  'url': 'https://www.nytimes.com/2020/07/01/books/becoming-duchess-goldblatt-memoir.html',\n",
       "  'date': '2020-07-02T00:24:11.462Z',\n",
       "  '__v': 0},\n",
       " {'saved': False,\n",
       "  '_id': '5efd292b2b3c7c001515b0b1',\n",
       "  'headline': 'Middleman Handed Out Russian Cash to Kill Americans, Officials SayWhite House Dismisses Reports of Bounties, but Is Silent on RussiaA first-term member of Congress noticed something unusual about the way the White House handled reports on Russia.',\n",
       "  'summary': 'A small-time Afghan businessman stands as a central piece of a puzzle rocking Washington. Friends saw him grow rich, but didn’t know how.Robert O’Brien, the national security adviser, told Fox News that President Trump knew nothing about the reports.',\n",
       "  'url': 'https://www.nytimes.com/2020/07/01/world/asia/afghan-russia-bounty-middleman.html',\n",
       "  'date': '2020-07-02T00:24:11.461Z',\n",
       "  '__v': 0},\n",
       " {'saved': False,\n",
       "  '_id': '5efd292b2b3c7c001515b0b2',\n",
       "  'headline': 'The Invisible Caste System Behind American RacismThe music industry is looking for ways to make concrete changes as it wrestles with race.Police Clear Seattle’s Protest ‘Autonomous Zone’',\n",
       "  'summary': 'Our founding ideals promise liberty and equality. Our reality is a racial hierarchy that has persisted for centuries, writes Isabel Wilkerson for The Times Magazine.The so-called Capitol Hill Organized Protest area, the site of at least four shootings last month, was taken over by protesters after the death of George Floyd.',\n",
       "  'url': 'https://www.nytimes.com/2020/07/01/magazine/isabel-wilkerson-caste.html',\n",
       "  'date': '2020-07-02T00:24:11.461Z',\n",
       "  '__v': 0},\n",
       " {'saved': False,\n",
       "  '_id': '5efd292b2b3c7c001515b0b0',\n",
       "  'headline': 'Arrests in Hong Kong as Security Law Sends Chill Over CityThe Fear Factor: Bringing the Beijing Treatment to Hong Kong',\n",
       "  'summary': 'The police have arrested more than 300 people, including at least nine over new offenses created by the security law. One of them was a 15-year-old girl.Pro-democracy activists now face the same dilemma as their mainland counterparts: choosing between fear and their ideals, our columnist writes.',\n",
       "  'url': 'https://www.nytimes.com/2020/07/01/world/asia/hong-kong-security-law-china.html',\n",
       "  'date': '2020-07-02T00:24:11.461Z',\n",
       "  '__v': 0},\n",
       " {'saved': False,\n",
       "  '_id': '5efd292b2b3c7c001515b0af',\n",
       "  'headline': 'Here’s What Recovery From Covid-19 Looks Like for Many SurvivorsA new testing strategy may enable widespread virus surveillance in the United States. Here’s how it works.Indoor dining in New York City will not return next week, as had been planned.',\n",
       "  'summary': 'Continuing shortness of breath, muscle weakness, flashbacks, mental fogginess and other symptoms may plague patients for a long time.',\n",
       "  'url': 'https://www.nytimes.com/2020/07/01/health/coronavirus-recovery-survivors.html',\n",
       "  'date': '2020-07-02T00:24:11.460Z',\n",
       "  '__v': 0},\n",
       " {'saved': False,\n",
       "  '_id': '5efd292b2b3c7c001515b0ae',\n",
       "  'headline': 'Late Action Prompts Fears Over Safety of U.S. Diplomats in Saudi ArabiaRepublicans are abruptly pushing Americans to wear masks, despite President Trump’s resistance.',\n",
       "  'summary': 'Surging outbreaks in the U.S. Embassy and the kingdom and quiet congressional pressure led the State Department belatedly to allow voluntary departures.',\n",
       "  'url': 'https://www.nytimes.com/2020/07/01/us/politics/coronavirus-us-embassy-saudi-arabia.html',\n",
       "  'date': '2020-07-02T00:24:11.459Z',\n",
       "  '__v': 0},\n",
       " {'saved': False,\n",
       "  '_id': '5efd292b2b3c7c001515b0ad',\n",
       "  'headline': 'Some States and Cities Halt Reopenings As U.S. Cases Surge',\n",
       "  'summary': 'United States »  2,676,680  total casesBrazil »  1,402,041  India »  585,493  U.K. »  313,483  Mexico »  226,089  Canada »  104,204  See all new cases around the worldSee U.S. hot spots',\n",
       "  'url': 'https://www.nytimes.com/2020/07/01/world/coronavirus-updates.html',\n",
       "  'date': '2020-07-02T00:24:11.458Z',\n",
       "  '__v': 0}]"
      ]
     },
     "execution_count": 4,
     "metadata": {},
     "output_type": "execute_result"
    }
   ],
   "source": [
    "# JSON-ify response\n",
    "data"
   ]
  },
  {
   "cell_type": "code",
   "execution_count": null,
   "metadata": {
    "collapsed": true,
    "scrolled": true
   },
   "outputs": [],
   "source": [
    "# Print first and last articles"
   ]
  },
  {
   "cell_type": "code",
   "execution_count": null,
   "metadata": {
    "collapsed": true
   },
   "outputs": [],
   "source": [
    "#Print the number of responses received."
   ]
  }
 ],
 "metadata": {
  "kernelspec": {
   "display_name": "Python 3",
   "language": "python",
   "name": "python3"
  },
  "language_info": {
   "codemirror_mode": {
    "name": "ipython",
    "version": 3
   },
   "file_extension": ".py",
   "mimetype": "text/x-python",
   "name": "python",
   "nbconvert_exporter": "python",
   "pygments_lexer": "ipython3",
   "version": "3.7.6"
  },
  "varInspector": {
   "cols": {
    "lenName": 16,
    "lenType": 16,
    "lenVar": 40
   },
   "kernels_config": {
    "python": {
     "delete_cmd_postfix": "",
     "delete_cmd_prefix": "del ",
     "library": "var_list.py",
     "varRefreshCmd": "print(var_dic_list())"
    },
    "r": {
     "delete_cmd_postfix": ") ",
     "delete_cmd_prefix": "rm(",
     "library": "var_list.r",
     "varRefreshCmd": "cat(var_dic_list()) "
    }
   },
   "types_to_exclude": [
    "module",
    "function",
    "builtin_function_or_method",
    "instance",
    "_Feature"
   ],
   "window_display": false
  }
 },
 "nbformat": 4,
 "nbformat_minor": 2
}
